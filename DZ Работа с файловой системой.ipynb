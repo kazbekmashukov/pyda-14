{
 "cells": [
  {
   "cell_type": "code",
   "execution_count": null,
   "metadata": {},
   "outputs": [],
   "source": [
    "with open ('purchase_log.txt') as f:\n",
    "    purchases = {}\n",
    "    for line in f:\n",
    "        line = line.strip ()\n",
    "        import json\n",
    "        dict_= json.loads (line)\n",
    "        purchases [dict_['user_id']] = dict_['category']"
   ]
  },
  {
   "cell_type": "code",
   "execution_count": null,
   "metadata": {},
   "outputs": [],
   "source": [
    "with open(\"visit_log.csv\", encoding='utf-8') as f_1:\n",
    "    with open(\"funne.csv\", \"w\", encoding = \"utf-8\") as f_2:\n",
    "        for into in f_1:\n",
    "            into_list = list (info.split(\",\")\n",
    "            if info_list [0] in purchases.keys ()\n",
    "            f_2.write (info.strip () + ',' + purchases.get (info_list [0] + '\\n'))"
   ]
  }
 ],
 "metadata": {
  "kernelspec": {
   "display_name": "Python 3",
   "language": "python",
   "name": "python3"
  },
  "language_info": {
   "codemirror_mode": {
    "name": "ipython",
    "version": 3
   },
   "file_extension": ".py",
   "mimetype": "text/x-python",
   "name": "python",
   "nbconvert_exporter": "python",
   "pygments_lexer": "ipython3",
   "version": "3.8.3"
  }
 },
 "nbformat": 4,
 "nbformat_minor": 4
}
