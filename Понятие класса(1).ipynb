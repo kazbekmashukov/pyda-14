{
 "cells": [
  {
   "cell_type": "code",
   "execution_count": 2,
   "metadata": {},
   "outputs": [
    {
     "name": "stdout",
     "output_type": "stream",
     "text": [
      "СДР (специальные права заимствования)\n",
      "Разница между предыдушим курсом валюты \"Австралийский доллар\" равна: 0.3\n"
     ]
    }
   ],
   "source": [
    "import urllib.request, json\n",
    "import datetime\n",
    "class Rate(object):\n",
    "    def __init__(self, diff):\n",
    "        self.diff = diff\n",
    "        with urllib.request.urlopen(\"https://www.cbr-xml-daily.ru/daily_json.js\") as url:\n",
    "            self.data = json.loads(url.read().decode()) \n",
    "    def print_rate(self, name):\n",
    "        name = name.upper()\n",
    "        if(self.diff):\n",
    "            print('Разница между предыдушим курсом валюты ' + '\"'+ self.data[\"Valute\"][name][\"Name\"] +'\" равна: ' + str(round(self.data[\"Valute\"][name][\"Value\"] - self.data[\"Valute\"][name][\"Previous\"], 2)))\n",
    "        else:\n",
    "            print('Действительный курс валюты ' + '\"'+ self.data[\"Valute\"][name][\"Name\"] +'\" равна: ' + str(self.data[\"Valute\"][name][\"Value\"]))\n",
    "    def max_money(self):\n",
    "        value_max = 0;\n",
    "        name_valute = ''\n",
    "        for i in self.data[\"Valute\"]:\n",
    "            if(self.data[\"Valute\"][i][\"Value\"] > value_max):\n",
    "                value_max = self.data[\"Valute\"][i][\"Value\"]\n",
    "                name_valute = i\n",
    "        self.name = self.data[\"Valute\"][name_valute][\"Name\"]\n",
    "test_rate = Rate(True)\n",
    "test_rate.max_money()\n",
    "print(test_rate.name)\n",
    "test_rate.print_rate('aud')"
   ]
  },
  {
   "cell_type": "code",
   "execution_count": 1,
   "metadata": {},
   "outputs": [
    {
     "name": "stdout",
     "output_type": "stream",
     "text": [
      "Ваш грейд: 0\n",
      "False\n",
      "0\n",
      "True\n",
      "2\n",
      "True\n",
      "3\n",
      "True\n",
      "8\n",
      "Ваш грейд: 2\n",
      "Ваш грейд: 0\n",
      "Ваш грейд: 1\n",
      "Ваш грейд: 0\n",
      "Ваш грейд: 0\n"
     ]
    }
   ],
   "source": [
    "class Designer(object):\n",
    "    def __init__(self, work = False, awards = 0):\n",
    "        self.work = work\n",
    "        self.awards = awards\n",
    "        if(work and awards < 2):\n",
    "            self.awards = 2\n",
    "        \n",
    "    def add_awards(self, count = 1):\n",
    "        self.awards = self.awards + count\n",
    "        \n",
    "    def worked(self, work):\n",
    "        self.work = work\n",
    "        if(self.work and self.awards < 2):\n",
    "            self.awards = 2\n",
    "        \n",
    "    def get_grade(self):\n",
    "        print(\"Ваш грейд: \" + str((self.awards * 2)// 7))\n",
    "    \n",
    "des_1 = Designer()\n",
    "des_2 = Designer(True)\n",
    "des_3 = Designer(False, 5)\n",
    "des_4 = Designer(True, 1)\n",
    "des_5 = Designer(True, 3)\n",
    "des_1.get_grade()\n",
    "print(des_1.work)\n",
    "print(des_1.awards)\n",
    "des_1.worked(True)\n",
    "print(des_1.work)\n",
    "print(des_1.awards)\n",
    "des_1.add_awards()\n",
    "print(des_1.work)\n",
    "print(des_1.awards)\n",
    "des_1.add_awards(5)\n",
    "print(des_1.work)\n",
    "print(des_1.awards)\n",
    "des_1.get_grade()\n",
    "des_2.get_grade()\n",
    "des_3.get_grade()\n",
    "des_4.get_grade()\n",
    "des_5.get_grade()"
   ]
  }
 ],
 "metadata": {
  "kernelspec": {
   "display_name": "Python 3",
   "language": "python",
   "name": "python3"
  },
  "language_info": {
   "codemirror_mode": {
    "name": "ipython",
    "version": 3
   },
   "file_extension": ".py",
   "mimetype": "text/x-python",
   "name": "python",
   "nbconvert_exporter": "python",
   "pygments_lexer": "ipython3",
   "version": "3.8.3"
  }
 },
 "nbformat": 4,
 "nbformat_minor": 4
}
