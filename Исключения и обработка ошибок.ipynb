{
 "cells": [
  {
   "cell_type": "code",
   "execution_count": 1,
   "metadata": {},
   "outputs": [
    {
     "name": "stdout",
     "output_type": "stream",
     "text": [
      "2002-10-02 00:00:00\n"
     ]
    }
   ],
   "source": [
    "from datetime import datetime\n",
    "date_string = 'Wednesday, October 2, 2002'\n",
    "date_datetime = datetime.strptime(date_string,'%A, %B %d, %Y')\n",
    "print(date_datetime)"
   ]
  },
  {
   "cell_type": "code",
   "execution_count": 4,
   "metadata": {},
   "outputs": [
    {
     "name": "stdout",
     "output_type": "stream",
     "text": [
      "1977-08-18 00:00:00\n"
     ]
    }
   ],
   "source": [
    "import datetime\n",
    "def convert(date_time):\n",
    "    format = '%A, %d %B %Y'\n",
    "    datetime_str = datetime.datetime.strptime(date_time, format)\n",
    "    return datetime_str\n",
    "date_time = 'Thursday, 18 August 1977'\n",
    "print(convert(date_time))"
   ]
  },
  {
   "cell_type": "code",
   "execution_count": 9,
   "metadata": {},
   "outputs": [
    {
     "name": "stdout",
     "output_type": "stream",
     "text": [
      "2013-10-11 00:00:00\n"
     ]
    }
   ],
   "source": [
    "import datetime\n",
    "def convert(date_time):\n",
    "    format = '%A, %d.%m.%y'\n",
    "    datetime_str = datetime.datetime.strptime(date_time, format)\n",
    "    return datetime_str\n",
    "date_time = 'Friday, 11.10.13'\n",
    "print(convert(date_time))"
   ]
  },
  {
   "cell_type": "code",
   "execution_count": 21,
   "metadata": {},
   "outputs": [
    {
     "name": "stdout",
     "output_type": "stream",
     "text": [
      "Введите день 02\n",
      "Введите месяц 19\n",
      "Введите год 2018\n",
      "Такой даты нет\n"
     ]
    }
   ],
   "source": [
    "import datetime\n",
    "d=int(input(\"Введите день \"))\n",
    "m=int(input(\"Введите месяц \"))\n",
    "y=int(input(\"Введите год \"))\n",
    "try:\n",
    "    data=datetime.date(y,m,d)\n",
    "    print(data)\n",
    "    print(\"Дата существующая\")\n",
    "except:\n",
    "    print(\"Такой даты нет\")"
   ]
  },
  {
   "cell_type": "code",
   "execution_count": 7,
   "metadata": {},
   "outputs": [
    {
     "name": "stdout",
     "output_type": "stream",
     "text": [
      "2021-01-01\n",
      "2021-01-02\n",
      "2021-01-03\n",
      "2021-01-04\n",
      "2021-01-05\n",
      "2021-01-06\n",
      "2021-01-07\n",
      "2021-01-08\n",
      "2021-01-09\n"
     ]
    }
   ],
   "source": [
    "from datetime import timedelta, date\n",
    "def date_range(start_date, end_date):\n",
    "    for n in range(int ((end_date - start_date).days)):\n",
    "        yield start_date + timedelta(n)\n",
    "start_date = date(2021, 1, 1)\n",
    "end_date = date(2021, 1, 10)\n",
    "for single_date in date_range(start_date, end_date):\n",
    "    print(single_date.strftime(\"%Y-%m-%d\"))\n",
    "    import time\n",
    "def is_date_valid(year, month, day):\n",
    "    this_date = '%d/%d/%d' % (month, day, year)\n",
    "    try:\n",
    "        time.strptime(this_date, '%m/%d/%Y')\n",
    "    except ValueError:\n",
    "        return False\n",
    "    else:\n",
    "        return True"
   ]
  }
 ],
 "metadata": {
  "kernelspec": {
   "display_name": "Python 3",
   "language": "python",
   "name": "python3"
  },
  "language_info": {
   "codemirror_mode": {
    "name": "ipython",
    "version": 3
   },
   "file_extension": ".py",
   "mimetype": "text/x-python",
   "name": "python",
   "nbconvert_exporter": "python",
   "pygments_lexer": "ipython3",
   "version": "3.8.3"
  }
 },
 "nbformat": 4,
 "nbformat_minor": 4
}
