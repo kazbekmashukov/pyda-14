{
 "cells": [
  {
   "cell_type": "code",
   "execution_count": 1,
   "metadata": {},
   "outputs": [
    {
     "name": "stdout",
     "output_type": "stream",
     "text": [
      "Введите номер транспортного средства: АБ22ВВ193\n",
      "Номер не валиден\n"
     ]
    }
   ],
   "source": [
    "import re\n",
    "nomer_avto = str.upper (input('Введите номер транспортного средства: '))\n",
    "nomer_RegExp = '[АВЕКМНОРСТУХABEKMHOPCTYX]{2}[0-9]{3}[АВЕКМНОРСТУХABEKMHOPCTYX]{1}[0-9]{,3}'\n",
    "if re.match(nomer_RegExp, nomer_avto) is None:\n",
    "    print ('Номер не валиден')\n",
    "else:\n",
    "    print('Номер вадилен')"
   ]
  },
  {
   "cell_type": "code",
   "execution_count": 2,
   "metadata": {},
   "outputs": [
    {
     "name": "stdout",
     "output_type": "stream",
     "text": [
      "Напишите функцию которая будет удалять все последовательные повторы слов из заданной строки при помощи регулярных выражений\n"
     ]
    }
   ],
   "source": [
    "import re\n",
    "some_string = 'Напишите функцию функцию, которая будет будет будет будет удалять все все все все последовательные повторы слов из из из из заданной строки строки при помощи регулярных выражений'\n",
    "print (re.sub(r'\\b([^\\W\\d_]+)(\\s+\\1)+\\b', r'\\1', re.sub(r'\\W+', ' ', some_string).strip(), flags = re.I))"
   ]
  },
  {
   "cell_type": "code",
   "execution_count": 3,
   "metadata": {},
   "outputs": [
    {
     "name": "stdout",
     "output_type": "stream",
     "text": [
      "И т\n"
     ]
    }
   ],
   "source": [
    "import re\n",
    "some_words = 'Информационные технологии'\n",
    "print(re.sub(r'\\b(\\w)\\w+', r'\\1', 'Информационные технологии'))"
   ]
  },
  {
   "cell_type": "code",
   "execution_count": 4,
   "metadata": {},
   "outputs": [
    {
     "name": "stdout",
     "output_type": "stream",
     "text": [
      "N F C\n"
     ]
    }
   ],
   "source": [
    "import re\n",
    "some_words = 'Near Field Communication'\n",
    "print(re.sub(r'\\b(\\w)\\w+', r'\\1', 'Near Field Communication'))"
   ]
  },
  {
   "cell_type": "code",
   "execution_count": null,
   "metadata": {},
   "outputs": [],
   "source": [
    "import re\n",
    "emails = ['test@gmail.com, xyz@test.in, test@ya.ru, xyz@mail.ru, xyz@ya.ru, xyz@gmail.com']\n",
    "Addres = emails.get ('from').split('@')[1].rstrip('>')\n",
    "Addres = emails.split(' ')[0]"
   ]
  }
 ],
 "metadata": {
  "kernelspec": {
   "display_name": "Python 3",
   "language": "python",
   "name": "python3"
  },
  "language_info": {
   "codemirror_mode": {
    "name": "ipython",
    "version": 3
   },
   "file_extension": ".py",
   "mimetype": "text/x-python",
   "name": "python",
   "nbconvert_exporter": "python",
   "pygments_lexer": "ipython3",
   "version": "3.8.3"
  }
 },
 "nbformat": 4,
 "nbformat_minor": 4
}
