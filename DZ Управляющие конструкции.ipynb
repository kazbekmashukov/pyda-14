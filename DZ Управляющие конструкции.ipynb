{
 "cells": [
  {
   "cell_type": "code",
   "execution_count": 3,
   "metadata": {},
   "outputs": [
    {
     "name": "stdout",
     "output_type": "stream",
     "text": [
      "es\n",
      "t\n"
     ]
    }
   ],
   "source": [
    "def get_middle(s):\n",
    "    idx = len(s) // 2\n",
    "    if len(s) % 2 == 0:\n",
    "        return s[idx-1:idx+1]\n",
    "    else:\n",
    "        return s[idx]\n",
    "\n",
    "print(get_middle(\"test\"))\n",
    "print(get_middle(\"testing\"))"
   ]
  },
  {
   "cell_type": "code",
   "execution_count": 3,
   "metadata": {},
   "outputs": [
    {
     "name": "stdout",
     "output_type": "stream",
     "text": [
      "1\n",
      "4\n",
      "6\n",
      "0\n",
      "11\n"
     ]
    }
   ],
   "source": [
    "num = 1\n",
    "mysum = 0\n",
    "while num:\n",
    "    num = int(input())\n",
    "    mysum += num\n",
    "print(mysum)"
   ]
  },
  {
   "cell_type": "code",
   "execution_count": 1,
   "metadata": {},
   "outputs": [
    {
     "name": "stdout",
     "output_type": "stream",
     "text": [
      "23.9\n",
      "13.8\n",
      "3.7\n",
      "12.0\n"
     ]
    }
   ],
   "source": [
    "countries_temperature = [\n",
    "    ['Thailand', [75.2, 77, 78.8, 73.4, 68, 75.2, 77]],\n",
    "    ['Germany', [57.2, 55.4, 59, 59, 53.6]],\n",
    "    ['Russia', [35.6, 37.4, 39.2, 41, 42.8, 39.2, 35.6]],\n",
    "    ['Poland', [50, 50, 53.6, 57.2, 55.4, 55.4]]\n",
    "]\n",
    "for country in countries_temperature:\n",
    "    country = ((sum (country [1]) / len (country [1])) - 32) * 5 / 9\n",
    "    print (round (country, 1))"
   ]
  },
  {
   "cell_type": "code",
   "execution_count": 2,
   "metadata": {},
   "outputs": [
    {
     "name": "stdout",
     "output_type": "stream",
     "text": [
      "['Alex', 'Arthur', 'John', 'Peter', 'Richard']\n",
      "['Emma', 'Kate', 'Kira', 'Liza', 'Trisha']\n",
      " Идеальные пары: Alex и Emma\n",
      " Идеальные пары: Arthur и Kate\n",
      " Идеальные пары: John и Kira\n",
      " Идеальные пары: Peter и Liza\n",
      " Идеальные пары: Richard и Trisha\n",
      "Внимание, кто-то может остаться без пары!\n"
     ]
    }
   ],
   "source": [
    "boys = ['Peter', 'Alex', 'John', 'Arthur', 'Richard']\n",
    "girls = ['Kate', 'Liza', 'Kira', 'Emma', 'Trisha']\n",
    "boys = sorted(boys)\n",
    "print(boys)\n",
    "girls = sorted(girls)\n",
    "print(girls)\n",
    "boys\n",
    "for i in range(len(boys)):\n",
    "    print(\" Идеальные пары: %s и %s\"%(boys[i], girls[i]))\n",
    "if (boys == girls):\n",
    "    print('с парой')\n",
    "else:\n",
    "    print('Внимание, кто-то может остаться без пары!')"
   ]
  }
 ],
 "metadata": {
  "kernelspec": {
   "display_name": "Python 3",
   "language": "python",
   "name": "python3"
  },
  "language_info": {
   "codemirror_mode": {
    "name": "ipython",
    "version": 3
   },
   "file_extension": ".py",
   "mimetype": "text/x-python",
   "name": "python",
   "nbconvert_exporter": "python",
   "pygments_lexer": "ipython3",
   "version": "3.8.3"
  }
 },
 "nbformat": 4,
 "nbformat_minor": 4
}
