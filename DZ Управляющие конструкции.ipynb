{
 "cells": [
  {
   "cell_type": "code",
   "execution_count": null,
   "metadata": {},
   "outputs": [],
   "source": [
    "def get_middle(s):\n",
    "    idx = len(s) // 2\n",
    "    if len(s) % 2 == 0:\n",
    "        return s[idx-1:idx+1]\n",
    "    else:\n",
    "        return s[idx]\n",
    "\n",
    "print(get_middle(\"test\"))\n",
    "print(get_middle(\"testing\"))"
   ]
  },
  {
   "cell_type": "code",
   "execution_count": null,
   "metadata": {},
   "outputs": [],
   "source": [
    "qnum = 1\n",
    "mysum = 0\n",
    "while num:\n",
    "    num = int(input())\n",
    "    mysum += num\n",
    "print(mysum)"
   ]
  },
  {
   "cell_type": "code",
   "execution_count": null,
   "metadata": {},
   "outputs": [],
   "source": [
    "boys = ['Peter', 'Alex', 'John', 'Arthur', 'Richard']\n",
    "girls = ['Kate', 'Liza', 'Kira', 'Emma', 'Trisha']\n",
    "boys = sorted(boys)\n",
    "print(boys)\n",
    "girls = sorted(girls)\n",
    "print(girls)\n",
    "boys[1]\n",
    "print (f' Идеальные пары: {boys}, {girls}')"
   ]
  },
  {
   "cell_type": "code",
   "execution_count": null,
   "metadata": {},
   "outputs": [],
   "source": [
    "countries_temperature = [\n",
    "    ['Thailand', [75.2, 77, 78.8, 73.4, 68, 75.2, 77]],\n",
    "    ['Germany', [57.2, 55.4, 59, 59, 53.6]],\n",
    "    ['Russia', [35.6, 37.4, 39.2, 41, 42.8, 39.2, 35.6]],\n",
    "    ['Poland', [50, 50, 53.6, 57.2, 55.4, 55.4]]\n",
    "]\n",
    "number = int(input(\"Введите градусы F: \"))\n",
    "celsium = 5 / 9 * (number - 32)\n",
    "print(celsium)\n",
    "total = 0\n",
    "temperature = countries(input())\n",
    "while temperature != 0:\n",
    "    total += temperature\n",
    "    temperature = countries(input()) \n",
    "    print(total/countries)"
   ]
  }
 ],
 "metadata": {
  "kernelspec": {
   "display_name": "Python 3",
   "language": "python",
   "name": "python3"
  },
  "language_info": {
   "codemirror_mode": {
    "name": "ipython",
    "version": 3
   },
   "file_extension": ".py",
   "mimetype": "text/x-python",
   "name": "python",
   "nbconvert_exporter": "python",
   "pygments_lexer": "ipython3",
   "version": "3.8.3"
  }
 },
 "nbformat": 4,
 "nbformat_minor": 4
}
