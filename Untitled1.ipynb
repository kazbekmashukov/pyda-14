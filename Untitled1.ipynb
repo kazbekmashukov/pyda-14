{
 "cells": [
  {
   "cell_type": "code",
   "execution_count": null,
   "metadata": {},
   "outputs": [],
   "source": [
    "phrase_1 = (\"Насколько проще было бы писать программы, если бы не заказчики\")\n",
    "phrase_2 = (\"Насколько проще было бы писать программы, если бы не заказчики\")\n",
    "if len(phrase_1) > len(phrase_2):\n",
    "     print (\"Фраза 1 длиннее фразы 2\")\n",
    "elif len(phrase_1) < len(phrase_2):\n",
    "    print (\"Фраза 2 длинее фразы 1\")\n",
    "else:\n",
    "    print (\"Фраза 2 равна фразы 1\")"
   ]
  },
  {
   "cell_type": "code",
   "execution_count": null,
   "metadata": {},
   "outputs": [],
   "source": [
    "year = int(input())\n",
    "if year % 4 != 0:\n",
    "    print(\"Обычный\")\n",
    "elif year % 100 == 0:\n",
    "    if year % 400 == 0:\n",
    "        print(\"Високосный\")\n",
    "    else:\n",
    "        print(\"Обычный\")\n",
    "else:\n",
    "    print(\"Високосный\")"
   ]
  },
  {
   "cell_type": "code",
   "execution_count": null,
   "metadata": {},
   "outputs": [],
   "source": [
    "date=int(input(\"Введите день рождения:\"))\n",
    "month=int(input(\"Введите месяц рождения:\"))\n",
    "if (date>=23 and date<=30 and month==8) or( month==9 and date>=1 and date<=23):\n",
    "\n",
    "   print(\"Знак зодиака: Дева\")\n",
    "\n",
    "elif (date>=23 and date<=31 and month==10) or( month==11 and date>=1 and date<=21):\n",
    "\n",
    "   print(\"Знак зодиака:Телец\")"
   ]
  },
  {
   "cell_type": "code",
   "execution_count": null,
   "metadata": {},
   "outputs": [],
   "source": [
    "width = 10\n",
    "length = 205\n",
    "height = 5\n",
    "width =int(input(\"Введите длину:\"))\n",
    "length =int(input(\"Введите высоту:\"))\n",
    "height =int(input(\"Введите массу:\"))\n",
    "if (width <= 15 and length <=15 and height <=15):\n",
    "    print (\"Коробка №1\")\n",
    "elif (width >= 15 or width <=50 and length >= 15 or length <=50 and height >= 15 or height <=50):\n",
    "    print (\"Коробка №2\")\n",
    "else:\n",
    "    (width >= 10 and lenght >= 2000 and height >= 5)\n",
    "    print (\"Упаковка для лыж\")"
   ]
  }
 ],
 "metadata": {
  "kernelspec": {
   "display_name": "Python 3",
   "language": "python",
   "name": "python3"
  },
  "language_info": {
   "codemirror_mode": {
    "name": "ipython",
    "version": 3
   },
   "file_extension": ".py",
   "mimetype": "text/x-python",
   "name": "python",
   "nbconvert_exporter": "python",
   "pygments_lexer": "ipython3",
   "version": "3.8.3"
  }
 },
 "nbformat": 4,
 "nbformat_minor": 4
}
