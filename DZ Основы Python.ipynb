{
 "cells": [
  {
   "cell_type": "code",
   "execution_count": 2,
   "metadata": {},
   "outputs": [
    {
     "name": "stdout",
     "output_type": "stream",
     "text": [
      "Фраза 1 длиннее фразы 2\n"
     ]
    }
   ],
   "source": [
    "phrase_1 = (\"Насколько проще было бы писать программы, если бы не заказчики\")\n",
    "phrase_2 = (\"640Кб должно хватить для любых задач. Билл Гейтс (по легенде)\")\n",
    "if len(phrase_1) > len(phrase_2):\n",
    "     print (\"Фраза 1 длиннее фразы 2\")\n",
    "elif len(phrase_1) < len(phrase_2):\n",
    "    print (\"Фраза 2 длинее фразы 1\")\n",
    "else:\n",
    "    print (\"Фраза 2 равна фразы 1\")\n"
   ]
  },
  {
   "cell_type": "code",
   "execution_count": 3,
   "metadata": {},
   "outputs": [
    {
     "name": "stdout",
     "output_type": "stream",
     "text": [
      "2020\n",
      "Високосный\n"
     ]
    }
   ],
   "source": [
    "year = int(input())\n",
    "if year % 4 != 0:\n",
    "    print(\"Обычный\")\n",
    "elif year % 100 == 0:\n",
    "    if year % 400 == 0:\n",
    "        print(\"Високосный\")\n",
    "    else:\n",
    "        print(\"Обычный\")\n",
    "else:\n",
    "    print(\"Високосный\")"
   ]
  },
  {
   "cell_type": "code",
   "execution_count": 5,
   "metadata": {},
   "outputs": [
    {
     "name": "stdout",
     "output_type": "stream",
     "text": [
      "Введите день рождения:29\n",
      "Введите месяц рождения:10\n",
      "Знак зодиака:Скорпион\n"
     ]
    }
   ],
   "source": [
    "date = int(input(\"Введите день рождения:\"))\n",
    "\n",
    "month = int(input(\"Введите месяц рождения:\"))\n",
    "\n",
    "if (date >= 21 and date <= 31 and month == 3) or(month == 4 and date >= 1 and date <= 19):\n",
    "\n",
    "   print(\"Знак зодиака:Овен\")\n",
    "\n",
    "elif (date >= 20 and date <= 30 and month == 4) or(month == 5 and date >= 1 and date <= 20):\n",
    "\n",
    "   print(\"Знак зодиака:Телец\")\n",
    "\n",
    "elif (date >= 21 and date <= 31 and month == 5) or(month == 6 and date >= 1 and date <= 21):\n",
    "\n",
    "   print(\"Знак зодиака:Близнецы\")\n",
    "\n",
    "elif (date >= 22 and date <= 30 and month == 6) or(month == 7 and date >= 1 and date <= 22):\n",
    "\n",
    "   print(\"Знак зодиака:Рак\")\n",
    "\n",
    "elif (date >= 23 and date <= 31 and month == 7) or(month == 8 and date >= 1 and date <= 22):\n",
    "\n",
    "   print(\"Знак зодиака:Лев\")\n",
    "\n",
    "elif (date >= 23 and date <= 31 and month == 8) or(month == 9 and date >= 1 and date <= 22):\n",
    "\n",
    "   print(\"Знак зодиака:Дева\")\n",
    "\n",
    "elif (date >= 23 and date <= 30 and month == 9) or(month == 10 and date >= 1 and date <= 23):\n",
    "\n",
    "   print(\"Знак зодиака:Весы\")\n",
    "\n",
    "elif (date >= 24 and date <= 31 and month == 10) or(month == 11 and date >= 1 and date <= 22):\n",
    "\n",
    "   print(\"Знак зодиака:Скорпион\")\n",
    "\n",
    "elif (date >= 23 and date <= 30 and month == 11) or(month == 12 and date >= 1 and date <= 21):\n",
    "\n",
    "   print(\"Знак зодиака:Стрелец\")\n",
    "\n",
    "elif (date >= 22 and date <= 31 and month == 12) or(month == 1 and date >= 1 and date <= 20):\n",
    "\n",
    "   print(\"Знак зодиака:Козерог\")\n",
    "\n",
    "elif (date >= 21 and date <= 31 and month == 1) or(month == 2 and date >= 1 and date <= 18):\n",
    "\n",
    "   print(\"Знак зодиака:Водолей\")\n",
    "\n",
    "elif (date >= 19 and date <= 29 and month == 2) or(month == 3 and date >= 1 and date <= 20):\n",
    "\n",
    "   print(\"Знак зодиака:Рыбы\")"
   ]
  },
  {
   "cell_type": "code",
   "execution_count": 6,
   "metadata": {},
   "outputs": [
    {
     "name": "stdout",
     "output_type": "stream",
     "text": [
      "Введите длину:45\n",
      "Введите высоту:205\n",
      "Введите массу:45\n",
      "Упаковка для лыж\n"
     ]
    }
   ],
   "source": [
    "width = 10\n",
    "length = 205\n",
    "height = 5\n",
    "width =int(input(\"Введите длину:\"))\n",
    "length =int(input(\"Введите высоту:\"))\n",
    "height =int(input(\"Введите массу:\"))\n",
    "if (width < 15 and length < 15 and height < 15):\n",
    "    print (\"Коробка №1\")\n",
    "elif (length > 200):\n",
    "    print (\"Упаковка для лыж\")\n",
    "elif (width > 15 or width < 50 or length > 15 and length < 50 or height > 15 or height < 50):\n",
    "    print (\"Коробка №2\") \n",
    "else: print (\"Упаковка N3\")"
   ]
  }
 ],
 "metadata": {
  "kernelspec": {
   "display_name": "Python 3",
   "language": "python",
   "name": "python3"
  },
  "language_info": {
   "codemirror_mode": {
    "name": "ipython",
    "version": 3
   },
   "file_extension": ".py",
   "mimetype": "text/x-python",
   "name": "python",
   "nbconvert_exporter": "python",
   "pygments_lexer": "ipython3",
   "version": "3.8.3"
  }
 },
 "nbformat": 4,
 "nbformat_minor": 4
}
