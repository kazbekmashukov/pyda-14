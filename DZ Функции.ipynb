{
 "cells": [
  {
   "cell_type": "code",
   "execution_count": 2,
   "metadata": {},
   "outputs": [
    {
     "name": "stdout",
     "output_type": "stream",
     "text": [
      "Введите номер документа:12345\n",
      "Документ не найден в базе\n",
      "Документ не найден в базе\n",
      "Документ не найден в базе\n"
     ]
    }
   ],
   "source": [
    "documents = [\n",
    "    {'type': 'passport', 'number': '2207 876234', 'name': 'Василий Гупкин'},\n",
    "    {'type': 'invoice', 'number': '11-2', 'name': 'Геннадий Покемонов'},\n",
    "    {'type': 'insurance', 'number': '10006', 'name': 'Аристарх Павлов'}\n",
    "]\n",
    "\n",
    "def p():\n",
    "    num = input(\"Введите номер документа:\")\n",
    "    for dic in documents:\n",
    "        found = False\n",
    "\n",
    "        for key, value in dic.items():\n",
    "            if key == \"number\" and value == num:\n",
    "                print(dic[\"name\"])\n",
    "                found = True\n",
    "                break\n",
    "\n",
    "        if not found:\n",
    "            print(\"Документ не найден в базе\")\n",
    "                                \n",
    "p()"
   ]
  },
  {
   "cell_type": "code",
   "execution_count": 3,
   "metadata": {},
   "outputs": [
    {
     "name": "stdout",
     "output_type": "stream",
     "text": [
      "Введите номер документа: 12345\n",
      "Документ не найден в базе\n"
     ]
    }
   ],
   "source": [
    "directories = {\n",
    "    '1': ['2207 876234', '11-2', '5455 028765'],\n",
    "    '2': ['10006', '5400 028765', '5455 002299'],\n",
    "    '3': []\n",
    "}\n",
    "def s(document_number):\n",
    "    for k in directories:\n",
    "        if document_number in directories[k]:\n",
    "            return k\n",
    "    return \"Документ не найден в базе\"\n",
    "\n",
    "document_number = input(\"Введите номер документа: \")\n",
    "print(s(document_number))"
   ]
  },
  {
   "cell_type": "code",
   "execution_count": 7,
   "metadata": {},
   "outputs": [
    {
     "name": "stdout",
     "output_type": "stream",
     "text": [
      "passport\"2207 876234\" \"Василий Гупкин\"\n",
      "invoice\"11-2\" \"Геннадий Покемонов\"\n",
      "insurance\"10006\" \"Аристарх Павлов\"\n"
     ]
    }
   ],
   "source": [
    "documents = [\n",
    "    {'type': 'passport', 'number': '2207 876234', 'name': 'Василий Гупкин'},\n",
    "    {'type': 'invoice', 'number': '11-2', 'name': 'Геннадий Покемонов'},\n",
    "    {'type': 'insurance', 'number': '10006', 'name': 'Аристарх Павлов'}\n",
    "]\n",
    "\n",
    "def p(documnet_number):\n",
    "    for x in documents:\n",
    "        if x['number'] == documnet_number:\n",
    "            return x['name']\n",
    "\n",
    "def l():\n",
    "    for x in documents:\n",
    "        type = x['type']\n",
    "        number = x['number']\n",
    "        name = x['name']\n",
    "        print('{0}\"{1}\" \"{2}\"'.format(type, number, name))\n",
    "        \n",
    "l()"
   ]
  },
  {
   "cell_type": "code",
   "execution_count": 5,
   "metadata": {},
   "outputs": [
    {
     "name": "stdout",
     "output_type": "stream",
     "text": [
      "None\n"
     ]
    }
   ],
   "source": [
    "documents = [\n",
    "    {'type': 'passport', 'number': '2207 876234', 'name': 'Василий Гупкин'},\n",
    "    {'type': 'invoice', 'number': '11-2', 'name': 'Геннадий Покемонов'},\n",
    "    {'type': 'insurance', 'number': '10006', 'name': 'Аристарх Павлов'}\n",
    "]\n",
    "directories = {\n",
    "    '1': ['2207 876234', '11-2', '5455 028765'],\n",
    "    '2': ['10006', '5400 028765', '5455 002299'],\n",
    "    '3': []\n",
    "}\n",
    "def p(documnet_number):\n",
    "    for x in documents:\n",
    "        if x['number'] == documnet_number:\n",
    "            return x['name']\n",
    "def l():\n",
    "    for x in documents:\n",
    "        type = x['type']\n",
    "        number = x['number']\n",
    "        name = x['name']\n",
    "        print('{0}\"{1}\" \"{2}\"'.format(type, number, name))\n",
    "        document_number = input(\"Введите номер документа: \")\n",
    "print(p(document_number))\n",
    "def add_shelf():\n",
    "    number = input(\"Введите номер новой полки: \")\n",
    "    directories[number] = []\n",
    "    print(s(document_number))"
   ]
  },
  {
   "cell_type": "code",
   "execution_count": 6,
   "metadata": {},
   "outputs": [
    {
     "name": "stdout",
     "output_type": "stream",
     "text": [
      "Введите номер документа, который хотите удалить: 3\n",
      "Документ не существует\n",
      "[{'type': 'passport', 'number': '2207 876234', 'name': 'Василий Гупкин'}, {'type': 'invoice', 'number': '11-2', 'name': 'Геннадий Покемонов'}, {'type': 'insurance', 'number': '10006', 'name': 'Аристарх Павлов'}]\n",
      "{'1': ['2207 876234', '11-2', '5455 028765'], '2': ['10006', '5400 028765', '5455 002299'], '3': []}\n"
     ]
    }
   ],
   "source": [
    "documents = [\n",
    "    {'type': 'passport', 'number': '2207 876234', 'name': 'Василий Гупкин'},\n",
    "    {'type': 'invoice', 'number': '11-2', 'name': 'Геннадий Покемонов'},\n",
    "    {'type': 'insurance', 'number': '10006', 'name': 'Аристарх Павлов'}\n",
    "]\n",
    "directories = {\n",
    "    '1': ['2207 876234', '11-2', '5455 028765'],\n",
    "    '2': ['10006', '5400 028765', '5455 002299'],\n",
    "    '3': []\n",
    "}\n",
    "def d(document_number):\n",
    "    initial_len = len(documents)\n",
    "    for i, d in enumerate(documents):\n",
    "        if d [\"number\"] == document_number:\n",
    "            documents.pop(i)\n",
    "\n",
    "    if initial_len == len(documents):\n",
    "        return \"Документ не существует\"\n",
    "\n",
    "    for key, value in directories.items():\n",
    "        if doc_number in value:\n",
    "            value.remove(document_number)\n",
    "\n",
    "    return \"Документ успешно удален\"\n",
    "\n",
    "document_number = input (\"Введите номер документа, который хотите удалить: \")\n",
    "print (d (document_number))\n",
    "print (documents)\n",
    "print (directories)"
   ]
  }
 ],
 "metadata": {
  "kernelspec": {
   "display_name": "Python 3",
   "language": "python",
   "name": "python3"
  },
  "language_info": {
   "codemirror_mode": {
    "name": "ipython",
    "version": 3
   },
   "file_extension": ".py",
   "mimetype": "text/x-python",
   "name": "python",
   "nbconvert_exporter": "python",
   "pygments_lexer": "ipython3",
   "version": "3.8.3"
  }
 },
 "nbformat": 4,
 "nbformat_minor": 4
}
